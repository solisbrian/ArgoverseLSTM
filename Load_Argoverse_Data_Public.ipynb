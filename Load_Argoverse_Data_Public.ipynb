{
 "cells": [
  {
   "cell_type": "code",
   "execution_count": 2,
   "metadata": {},
   "outputs": [],
   "source": [
    "import torch\n",
    "from torch.utils.data import Dataset, DataLoader\n",
    "import os, os.path \n",
    "import numpy as np\n",
    "import pickle\n",
    "import pandas as pd\n",
    "from glob import glob\n",
    "from torch import nn, optim\n",
    "import matplotlib.pyplot as plt\n",
    "from random import sample\n",
    "import math\n",
    "\n",
    "\"\"\"Change to the data folder\"\"\"\n",
    "new_path = \"./new_train/\"\n",
    "test_path = \"./new_val_in/\"\n",
    "\n",
    "# number of sequences in each dataset\n",
    "# train:205942  val:3200 test: 36272 \n",
    "# sequences sampled at 10HZ rate"
   ]
  },
  {
   "cell_type": "markdown",
   "metadata": {},
   "source": [
    "### Create a dataset class "
   ]
  },
  {
   "cell_type": "code",
   "execution_count": 3,
   "metadata": {},
   "outputs": [],
   "source": [
    "class ArgoverseDataset(Dataset):\n",
    "    \"\"\"Dataset class for Argoverse\"\"\"\n",
    "    def __init__(self, data_path: str, transform=None):\n",
    "        super(ArgoverseDataset, self).__init__()\n",
    "        self.data_path = data_path\n",
    "        self.transform = transform\n",
    "\n",
    "        self.pkl_list = glob(os.path.join(self.data_path, '*'))\n",
    "        self.pkl_list.sort()\n",
    "        \n",
    "    def __len__(self):\n",
    "        return len(self.pkl_list)\n",
    "\n",
    "    def __getitem__(self, idx):\n",
    "\n",
    "        pkl_path = self.pkl_list[idx]\n",
    "        with open(pkl_path, 'rb') as f:\n",
    "            data = pickle.load(f)\n",
    "            \n",
    "        if self.transform:\n",
    "            data = self.transform(data)\n",
    "\n",
    "        return data\n",
    "\n",
    "\n",
    "# intialize a dataset\n",
    "dataset  = ArgoverseDataset(data_path=new_path)\n",
    "test_dataset = ArgoverseDataset(data_path = test_path)\n",
    "train_size = 150000\n",
    "test_size = 36272"
   ]
  },
  {
   "cell_type": "code",
   "execution_count": 4,
   "metadata": {},
   "outputs": [
    {
     "data": {
      "text/plain": [
       "False"
      ]
     },
     "execution_count": 4,
     "metadata": {},
     "output_type": "execute_result"
    }
   ],
   "source": [
    "cuda = torch.device('cuda')\n",
    "torch.cuda.is_available()"
   ]
  },
  {
   "cell_type": "markdown",
   "metadata": {},
   "source": [
    "### Create a loader to enable batch processing"
   ]
  },
  {
   "cell_type": "code",
   "execution_count": 5,
   "metadata": {},
   "outputs": [],
   "source": [
    "batch_sz = 4\n",
    "def my_collate(batch):\n",
    "    #batch_sz * agent_sz * seq_len * feature\n",
    "    inp = [numpy.dstack([scene['p_in'], scene['v_in']]) for scene in batch]\n",
    "    out = [numpy.dstack([scene['p_out'], scene['v_out']]) for scene in batch]\n",
    "    inp = torch.FloatTensor(inp)\n",
    "    out = torch.FloatTensor(out)\n",
    "    return [inp, out]\n",
    "\n",
    "train_loader = DataLoader(dataset, batch_size = batch_sz, shuffle = True, collate_fn = my_collate, num_workers = 1)"
   ]
  },
  {
   "cell_type": "markdown",
   "metadata": {},
   "source": [
    "#### LSTM Model "
   ]
  },
  {
   "cell_type": "code",
   "execution_count": 6,
   "metadata": {},
   "outputs": [],
   "source": [
    "class MyModel(nn.Module):\n",
    "    \n",
    "    def __init__(self):\n",
    "        super(MyModel, self).__init__()\n",
    "        \n",
    "        #LSTM\n",
    "        self.hidden_dim = 2048\n",
    "        self.num_layers = 3\n",
    "        self.lstm = nn.LSTM(240, self.hidden_dim, num_layers = self.num_layers, batch_first = True)\n",
    "        \n",
    "        #alternate architecture\n",
    "        #self.hidden_dim = 8192\n",
    "        #self.linear2 = nn.Sequential(nn.Linear(240*19, self.hidden_dim), nn.RuLU(), nn.Linear(self.hidden_dim, 240*30))\n",
    "        #self.simple_linear_model = nn.Linear(240*19, 240*30)\n",
    "        \n",
    "        #Linear layer maps from hidden state space to tag space\n",
    "        self.linear = nn.Conv1d(self.hidden_dim, 240, 1)\n",
    "        \n",
    "        def forward(self, x):\n",
    "            #input batch_size * timesteps * 240\n",
    "            x,_ = self.lstm(x)\n",
    "            #final hidden layer batch_size * timesteps * hidden_dim\n",
    "            x = x.transpose(1, 2)\n",
    "            #batch_size * hidden_dim * timesteps\n",
    "            x = self.linear(x)\n",
    "            x = x.transpose(1, 2)\n",
    "            return x\n",
    "        \n",
    "        def forward_test(self, x, num_steps = 30):\n",
    "            res=[]\n",
    "            h = torch.zeros((self.num_layers.len(x), self.hidden_dim))#.cuda()\n",
    "            c = torch.zeros((self.num_layers.len(x), self.hidden_dim))#.cuda()\n",
    "            for step in range(num_steps):\n",
    "                x, (h,c) = self.lstm(x, (h,c))\n",
    "                x = x[:, -1 :]\n",
    "                x = x.transpose(1, 2)\n",
    "                x = self.linear(x)\n",
    "                x = x.transpose(1, 2)\n",
    "                res.append(x)\n",
    "            res=torch.cat(res, 1)\n",
    "            return res"
   ]
  },
  {
   "cell_type": "code",
   "execution_count": 7,
   "metadata": {},
   "outputs": [],
   "source": [
    "model = MyModel()\n",
    "optimizer = optim.Adam(model.parameters(), lr = 1e-3)"
   ]
  },
  {
   "cell_type": "markdown",
   "metadata": {},
   "source": [
    "#### Training "
   ]
  },
  {
   "cell_type": "code",
   "execution_count": null,
   "metadata": {},
   "outputs": [],
   "source": [
    "loss_ema = -1\n",
    "loss_ema2 = -1\n",
    "\n",
    "iterations = 20\n",
    "for epoch in range(iterations):\n",
    "    for i_batch, sample_batch in enumerate(train_loader):\n",
    "        inp, out = sample_batch\n",
    "        #inp = inp.cude()\n",
    "        #out = out.cuda()\n",
    "        print(inp)\n",
    "        mixed = torch.cat([inp, out], 2).transpose(1,2).reshape((-1, 49, 240))#.float()\n",
    "        y_pred = model(mixed[:, : -1])[:, -30:]\n",
    "        y_pred = y_pred.reshape((-1, 30, 60, 4)).transpose(1, 2)\n",
    "        loss = (torch.mean((y_pred - out)**2))**0.5\n",
    "        optimizer.zero_grad()\n",
    "        loss.backward()\n",
    "        optimizer.step()\n",
    "        if(loss_ema < 0):\n",
    "            loss_ema = loss\n",
    "        loss_ema = loss_ema*0.99 + loss*0.01\n",
    "        \n",
    "        with torch.no_grad():\n",
    "            y_pred2 = model.forward_test(inp.transpose(1, 2).reshape((-1, 19, 240)))\n",
    "            y_pred2 = y_pred2.reshape((-1, 30, 60, 4)).transpose(1, 2)\n",
    "            loss2 =(torch.mean((y_pred2 - out)**2))**0.5\n",
    "            if(loss_ema2 < 0):\n",
    "                loss_ema2 = loss2\n",
    "                loss_ema2 = loss_ema2*0.99 + loss2*0.01\n",
    "            \n",
    "        if i_batch%10 == 0:\n",
    "            print('loss full', epoch, i_batch, loss_ema.item(), loss.item())\n",
    "            print('loss test', epoch, i_batch, loss_ema2.item(), loss2.item())\n",
    "        "
   ]
  },
  {
   "cell_type": "markdown",
   "metadata": {},
   "source": [
    "### RNN LSTM"
   ]
  },
  {
   "cell_type": "code",
   "execution_count": 6,
   "metadata": {},
   "outputs": [],
   "source": [
    "pv_in = torch.FloatTensor([np.dstack([scene['p_in'], scene['v_in']])][0])\n",
    "pv_out = torch.FloatTensor([np.dstack([scene['p_out'], scene['v_out']])][0])\n",
    "pv_in = pv_in.permute(1, 0, 2)\n",
    "pv_out = pv_out.permute(1, 0, 2)\n",
    "pv_out1 = torch.FloatTensor(np.dstack(scene['p_out'])[0])\n",
    "pv_out1 = pv_out1.permute(1, 0)"
   ]
  },
  {
   "cell_type": "code",
   "execution_count": 7,
   "metadata": {},
   "outputs": [
    {
     "data": {
      "text/plain": [
       "torch.Size([19, 60, 4])"
      ]
     },
     "execution_count": 7,
     "metadata": {},
     "output_type": "execute_result"
    }
   ],
   "source": [
    "pv_in.shape"
   ]
  },
  {
   "cell_type": "code",
   "execution_count": null,
   "metadata": {},
   "outputs": [],
   "source": [
    "def create_inout_sequences(scene_data, w):\n",
    "    inout_seq = []\n",
    "    L = len(scene_data)\n",
    "    for i in range(L-w):\n",
    "        train_seq = input_data[i:i+w]\n",
    "        train_label = input_data[i+tw:i+w+1]\n",
    "        inout_seq.append((train_seq ,train_label))\n",
    "    return inout_seq"
   ]
  },
  {
   "cell_type": "markdown",
   "metadata": {},
   "source": [
    "#### Input_size: number of features(4) , output_size: number of output predictions (30)\n",
    "https://stackabuse.com/time-series-prediction-using-lstm-with-pytorch-in-python/ "
   ]
  },
  {
   "cell_type": "code",
   "execution_count": 8,
   "metadata": {},
   "outputs": [],
   "source": [
    "batch_size = 4\n",
    "class LSTM(nn.Module):\n",
    "    \n",
    "    def __init__(self, input_size=4*60, hidden_layer_size=100, seq_length = 19, output_size=4):\n",
    "        super().__init__()\n",
    "        self.hidden_layer_size = hidden_layer_size\n",
    "\n",
    "        self.lstm = nn.LSTM(input_size, hidden_layer_size)\n",
    "\n",
    "        self.linear = nn.Linear(hidden_layer_size, output_size)\n",
    "\n",
    "        self.hidden_cell = (torch.zeros(1,1,self.hidden_layer_size),\n",
    "                            torch.zeros(1,1,self.hidden_layer_size))\n",
    "\n",
    "    def forward(self, input_seq):\n",
    "       \n",
    "        lstm_out, self.hidden_cell = self.lstm(input_seq.reshape(len(input_seq) , 1, -1), self.hidden_cell)\n",
    "        predictions = self.linear(lstm_out.view(len(input_seq), -1))\n",
    "        return predictions[-1]"
   ]
  },
  {
   "cell_type": "code",
   "execution_count": 9,
   "metadata": {},
   "outputs": [],
   "source": [
    "model = LSTM()\n",
    "loss_function = nn.MSELoss()\n",
    "optimizer = torch.optim.Adam(model.parameters(), lr=0.001)"
   ]
  },
  {
   "cell_type": "code",
   "execution_count": 11,
   "metadata": {},
   "outputs": [
    {
     "name": "stdout",
     "output_type": "stream",
     "text": [
      "epoch:   1 loss: 843.24773940\n",
      "epoch:  26 loss: 843.10616176\n",
      "epoch:  51 loss: 842.96400427\n",
      "epoch:  76 loss: 842.82315761\n",
      "epoch: 101 loss: 842.68158281\n",
      "epoch: 126 loss: 842.54135655\n",
      "epoch: 151 loss: 842.40144082\n",
      "epoch: 176 loss: 842.26183577\n",
      "epoch: 201 loss: 842.12254156\n",
      "epoch: 226 loss: 841.98355833\n",
      "epoch: 251 loss: 841.84488625\n",
      "epoch: 276 loss: 841.70652546\n",
      "epoch: 301 loss: 841.56843899\n",
      "epoch: 326 loss: 841.43070125\n",
      "epoch: 351 loss: 841.29320097\n",
      "epoch: 376 loss: 841.15697851\n",
      "epoch: 401 loss: 841.02021379\n",
      "epoch: 426 loss: 840.88364980\n",
      "epoch: 451 loss: 840.74840172\n",
      "epoch: 476 loss: 840.61246273\n",
      "epoch: 501 loss: 840.47776592\n",
      "epoch: 526 loss: 840.34245252\n",
      "epoch: 551 loss: 840.20834470\n",
      "epoch: 576 loss: 840.07458746\n",
      "epoch: 601 loss: 839.94114377\n",
      "epoch: 626 loss: 839.80786493\n",
      "epoch: 651 loss: 839.67408112\n",
      "epoch: 676 loss: 839.54146711\n",
      "epoch: 701 loss: 839.40916721\n",
      "epoch: 726 loss: 839.27718157\n",
      "epoch: 751 loss: 839.14636685\n",
      "epoch: 776 loss: 839.01493580\n",
      "epoch: 801 loss: 838.88374493\n",
      "epoch: 826 loss: 838.75290611\n",
      "epoch: 851 loss: 838.62331383\n",
      "epoch: 876 loss: 838.49295614\n",
      "epoch: 901 loss: 838.36295093\n",
      "epoch: 926 loss: 838.23423039\n",
      "epoch: 951 loss: 838.10571380\n",
      "epoch: 976 loss: 837.97658082\n",
      "epoch: 999 loss: 837.8583188702\n"
     ]
    }
   ],
   "source": [
    "epochs = 10\n",
    "\n",
    "for i in range(epochs):\n",
    "    optimizer.zero_grad()\n",
    "    model.hidden_cell = (torch.zeros(1, 1, model.hidden_layer_size),\n",
    "                        torch.zeros(1, 1, model.hidden_layer_size))\n",
    "\n",
    "    y_pred = model(pv_in)\n",
    "    y_pred = y_pred[:2]\n",
    "    single_loss = loss_function(y_pred, pv_out1)\n",
    "    single_loss.backward()\n",
    "    optimizer.step()\n",
    "\n",
    "    if i%25 == 1:\n",
    "        print(f'epoch: {i:3} loss: {math.sqrt(single_loss.item()):10.8f}')\n",
    "\n",
    "print(f'epoch: {i:3} loss: {math.sqrt(single_loss.item()):10.10f}')"
   ]
  },
  {
   "cell_type": "code",
   "execution_count": null,
   "metadata": {},
   "outputs": [],
   "source": [
    "model.eval()\n",
    "\n",
    "for i in range(fut_pred):\n",
    "    seq = torch.FloatTensor(test_inputs[-train_window:])\n",
    "    with torch.no_grad():\n",
    "        model.hidden = (torch.zeros(1, 1, model.hidden_layer_size),\n",
    "                        torch.zeros(1, 1, model.hidden_layer_size))\n",
    "        test_inputs.append(model(seq).item())"
   ]
  },
  {
   "cell_type": "code",
   "execution_count": 54,
   "metadata": {},
   "outputs": [],
   "source": [
    "class MV_LSTM(torch.nn.Module):\n",
    "    def __init__(self,n_features,seq_length):\n",
    "        super(MV_LSTM, self).__init__()\n",
    "        self.n_features = n_features\n",
    "        self.seq_len = seq_length\n",
    "        self.n_hidden = 20 # number of hidden states\n",
    "        self.n_layers = 60 # number of LSTM layers (stacked)\n",
    "    \n",
    "        self.l_lstm = torch.nn.LSTM(input_size = n_features, \n",
    "                                 hidden_size = self.n_hidden,\n",
    "                                 num_layers = self.n_layers, \n",
    "                                 batch_first = True)\n",
    "        # according to pytorch docs LSTM output is \n",
    "        # (batch_size,seq_len, num_directions * hidden_size)\n",
    "        # when considering batch_first = True\n",
    "        self.l_linear = torch.nn.Linear(self.n_hidden*self.seq_len, 1)\n",
    "        \n",
    "    \n",
    "    def init_hidden(self, batch_size):\n",
    "        # even with batch_first = True this remains same as docs\n",
    "        hidden_state = torch.zeros(self.n_layers,batch_size,self.n_hidden)\n",
    "        cell_state = torch.zeros(self.n_layers,batch_size,self.n_hidden)\n",
    "        self.hidden = (hidden_state, cell_state)\n",
    "    \n",
    "    \n",
    "    def forward(self, x):        \n",
    "        batch_size, seq_len, _ = x.size()\n",
    "        \n",
    "        lstm_out, self.hidden = self.l_lstm(x,self.hidden)\n",
    "        # lstm_out(with batch_first = True) is \n",
    "        # (batch_size,seq_len,num_directions * hidden_size)\n",
    "        # for following linear layer we want to keep batch_size dimension and merge rest       \n",
    "        # .contiguous() -> solves tensor compatibility error\n",
    "        x = lstm_out.contiguous().view(batch_size,-1)\n",
    "        print(x.shape)\n",
    "        return self.l_linear(x)"
   ]
  },
  {
   "cell_type": "code",
   "execution_count": 55,
   "metadata": {},
   "outputs": [],
   "source": [
    "n_features = 4 # this is number of parallel inputs\n",
    "n_timesteps = 19 # this is number of timesteps\n",
    "\n",
    "# create NN\n",
    "mv_net = MV_LSTM(n_features,n_timesteps)\n",
    "criterion = torch.nn.MSELoss() # reduction='sum' created huge loss value\n",
    "optimizer = torch.optim.Adam(mv_net.parameters(), lr=1e-1)\n",
    "\n",
    "train_episodes = 5\n",
    "batch_size = 5"
   ]
  },
  {
   "cell_type": "code",
   "execution_count": 57,
   "metadata": {},
   "outputs": [
    {
     "name": "stderr",
     "output_type": "stream",
     "text": [
      "<ipython-input-57-789145308d53>:7: UserWarning: To copy construct from a tensor, it is recommended to use sourceTensor.clone().detach() or sourceTensor.clone().detach().requires_grad_(True), rather than torch.tensor(sourceTensor).\n",
      "  x_batch = torch.tensor(inpt,dtype=torch.float32)\n",
      "<ipython-input-57-789145308d53>:8: UserWarning: To copy construct from a tensor, it is recommended to use sourceTensor.clone().detach() or sourceTensor.clone().detach().requires_grad_(True), rather than torch.tensor(sourceTensor).\n",
      "  y_batch = torch.tensor(target,dtype=torch.float32)\n"
     ]
    },
    {
     "name": "stdout",
     "output_type": "stream",
     "text": [
      "torch.Size([19, 1200])\n"
     ]
    },
    {
     "ename": "RuntimeError",
     "evalue": "size mismatch, m1: [19 x 1200], m2: [380 x 1] at ..\\aten\\src\\TH/generic/THTensorMath.cpp:41",
     "output_type": "error",
     "traceback": [
      "\u001b[1;31m---------------------------------------------------------------------------\u001b[0m",
      "\u001b[1;31mRuntimeError\u001b[0m                              Traceback (most recent call last)",
      "\u001b[1;32m<ipython-input-57-789145308d53>\u001b[0m in \u001b[0;36m<module>\u001b[1;34m\u001b[0m\n\u001b[0;32m     11\u001b[0m     \u001b[1;31m#    lstm_out, _ = mv_net.l_lstm(x_batch,nnet.hidden)\u001b[0m\u001b[1;33m\u001b[0m\u001b[1;33m\u001b[0m\u001b[1;33m\u001b[0m\u001b[0m\n\u001b[0;32m     12\u001b[0m     \u001b[1;31m#    lstm_out.contiguous().view(x_batch.size(0),-1)\u001b[0m\u001b[1;33m\u001b[0m\u001b[1;33m\u001b[0m\u001b[1;33m\u001b[0m\u001b[0m\n\u001b[1;32m---> 13\u001b[1;33m         \u001b[0moutput\u001b[0m \u001b[1;33m=\u001b[0m \u001b[0mmv_net\u001b[0m\u001b[1;33m(\u001b[0m\u001b[0mx_batch\u001b[0m\u001b[1;33m)\u001b[0m\u001b[1;33m\u001b[0m\u001b[1;33m\u001b[0m\u001b[0m\n\u001b[0m\u001b[0;32m     14\u001b[0m         \u001b[0mloss\u001b[0m \u001b[1;33m=\u001b[0m \u001b[0mcriterion\u001b[0m\u001b[1;33m(\u001b[0m\u001b[0moutput\u001b[0m\u001b[1;33m.\u001b[0m\u001b[0mview\u001b[0m\u001b[1;33m(\u001b[0m\u001b[1;33m-\u001b[0m\u001b[1;36m1\u001b[0m\u001b[1;33m)\u001b[0m\u001b[1;33m,\u001b[0m \u001b[0my_batch\u001b[0m\u001b[1;33m)\u001b[0m\u001b[1;33m\u001b[0m\u001b[1;33m\u001b[0m\u001b[0m\n\u001b[0;32m     15\u001b[0m \u001b[1;33m\u001b[0m\u001b[0m\n",
      "\u001b[1;32m~\\Anaconda3\\New folder\\envs\\torch_env\\lib\\site-packages\\torch\\nn\\modules\\module.py\u001b[0m in \u001b[0;36m_call_impl\u001b[1;34m(self, *input, **kwargs)\u001b[0m\n\u001b[0;32m    720\u001b[0m             \u001b[0mresult\u001b[0m \u001b[1;33m=\u001b[0m \u001b[0mself\u001b[0m\u001b[1;33m.\u001b[0m\u001b[0m_slow_forward\u001b[0m\u001b[1;33m(\u001b[0m\u001b[1;33m*\u001b[0m\u001b[0minput\u001b[0m\u001b[1;33m,\u001b[0m \u001b[1;33m**\u001b[0m\u001b[0mkwargs\u001b[0m\u001b[1;33m)\u001b[0m\u001b[1;33m\u001b[0m\u001b[1;33m\u001b[0m\u001b[0m\n\u001b[0;32m    721\u001b[0m         \u001b[1;32melse\u001b[0m\u001b[1;33m:\u001b[0m\u001b[1;33m\u001b[0m\u001b[1;33m\u001b[0m\u001b[0m\n\u001b[1;32m--> 722\u001b[1;33m             \u001b[0mresult\u001b[0m \u001b[1;33m=\u001b[0m \u001b[0mself\u001b[0m\u001b[1;33m.\u001b[0m\u001b[0mforward\u001b[0m\u001b[1;33m(\u001b[0m\u001b[1;33m*\u001b[0m\u001b[0minput\u001b[0m\u001b[1;33m,\u001b[0m \u001b[1;33m**\u001b[0m\u001b[0mkwargs\u001b[0m\u001b[1;33m)\u001b[0m\u001b[1;33m\u001b[0m\u001b[1;33m\u001b[0m\u001b[0m\n\u001b[0m\u001b[0;32m    723\u001b[0m         for hook in itertools.chain(\n\u001b[0;32m    724\u001b[0m                 \u001b[0m_global_forward_hooks\u001b[0m\u001b[1;33m.\u001b[0m\u001b[0mvalues\u001b[0m\u001b[1;33m(\u001b[0m\u001b[1;33m)\u001b[0m\u001b[1;33m,\u001b[0m\u001b[1;33m\u001b[0m\u001b[1;33m\u001b[0m\u001b[0m\n",
      "\u001b[1;32m<ipython-input-54-7ddbba8c201d>\u001b[0m in \u001b[0;36mforward\u001b[1;34m(self, x)\u001b[0m\n\u001b[0;32m     34\u001b[0m         \u001b[0mx\u001b[0m \u001b[1;33m=\u001b[0m \u001b[0mlstm_out\u001b[0m\u001b[1;33m.\u001b[0m\u001b[0mcontiguous\u001b[0m\u001b[1;33m(\u001b[0m\u001b[1;33m)\u001b[0m\u001b[1;33m.\u001b[0m\u001b[0mview\u001b[0m\u001b[1;33m(\u001b[0m\u001b[0mbatch_size\u001b[0m\u001b[1;33m,\u001b[0m\u001b[1;33m-\u001b[0m\u001b[1;36m1\u001b[0m\u001b[1;33m)\u001b[0m\u001b[1;33m\u001b[0m\u001b[1;33m\u001b[0m\u001b[0m\n\u001b[0;32m     35\u001b[0m         \u001b[0mprint\u001b[0m\u001b[1;33m(\u001b[0m\u001b[0mx\u001b[0m\u001b[1;33m.\u001b[0m\u001b[0mshape\u001b[0m\u001b[1;33m)\u001b[0m\u001b[1;33m\u001b[0m\u001b[1;33m\u001b[0m\u001b[0m\n\u001b[1;32m---> 36\u001b[1;33m         \u001b[1;32mreturn\u001b[0m \u001b[0mself\u001b[0m\u001b[1;33m.\u001b[0m\u001b[0ml_linear\u001b[0m\u001b[1;33m(\u001b[0m\u001b[0mx\u001b[0m\u001b[1;33m)\u001b[0m\u001b[1;33m\u001b[0m\u001b[1;33m\u001b[0m\u001b[0m\n\u001b[0m",
      "\u001b[1;32m~\\Anaconda3\\New folder\\envs\\torch_env\\lib\\site-packages\\torch\\nn\\modules\\module.py\u001b[0m in \u001b[0;36m_call_impl\u001b[1;34m(self, *input, **kwargs)\u001b[0m\n\u001b[0;32m    720\u001b[0m             \u001b[0mresult\u001b[0m \u001b[1;33m=\u001b[0m \u001b[0mself\u001b[0m\u001b[1;33m.\u001b[0m\u001b[0m_slow_forward\u001b[0m\u001b[1;33m(\u001b[0m\u001b[1;33m*\u001b[0m\u001b[0minput\u001b[0m\u001b[1;33m,\u001b[0m \u001b[1;33m**\u001b[0m\u001b[0mkwargs\u001b[0m\u001b[1;33m)\u001b[0m\u001b[1;33m\u001b[0m\u001b[1;33m\u001b[0m\u001b[0m\n\u001b[0;32m    721\u001b[0m         \u001b[1;32melse\u001b[0m\u001b[1;33m:\u001b[0m\u001b[1;33m\u001b[0m\u001b[1;33m\u001b[0m\u001b[0m\n\u001b[1;32m--> 722\u001b[1;33m             \u001b[0mresult\u001b[0m \u001b[1;33m=\u001b[0m \u001b[0mself\u001b[0m\u001b[1;33m.\u001b[0m\u001b[0mforward\u001b[0m\u001b[1;33m(\u001b[0m\u001b[1;33m*\u001b[0m\u001b[0minput\u001b[0m\u001b[1;33m,\u001b[0m \u001b[1;33m**\u001b[0m\u001b[0mkwargs\u001b[0m\u001b[1;33m)\u001b[0m\u001b[1;33m\u001b[0m\u001b[1;33m\u001b[0m\u001b[0m\n\u001b[0m\u001b[0;32m    723\u001b[0m         for hook in itertools.chain(\n\u001b[0;32m    724\u001b[0m                 \u001b[0m_global_forward_hooks\u001b[0m\u001b[1;33m.\u001b[0m\u001b[0mvalues\u001b[0m\u001b[1;33m(\u001b[0m\u001b[1;33m)\u001b[0m\u001b[1;33m,\u001b[0m\u001b[1;33m\u001b[0m\u001b[1;33m\u001b[0m\u001b[0m\n",
      "\u001b[1;32m~\\Anaconda3\\New folder\\envs\\torch_env\\lib\\site-packages\\torch\\nn\\modules\\linear.py\u001b[0m in \u001b[0;36mforward\u001b[1;34m(self, input)\u001b[0m\n\u001b[0;32m     89\u001b[0m \u001b[1;33m\u001b[0m\u001b[0m\n\u001b[0;32m     90\u001b[0m     \u001b[1;32mdef\u001b[0m \u001b[0mforward\u001b[0m\u001b[1;33m(\u001b[0m\u001b[0mself\u001b[0m\u001b[1;33m,\u001b[0m \u001b[0minput\u001b[0m\u001b[1;33m:\u001b[0m \u001b[0mTensor\u001b[0m\u001b[1;33m)\u001b[0m \u001b[1;33m->\u001b[0m \u001b[0mTensor\u001b[0m\u001b[1;33m:\u001b[0m\u001b[1;33m\u001b[0m\u001b[1;33m\u001b[0m\u001b[0m\n\u001b[1;32m---> 91\u001b[1;33m         \u001b[1;32mreturn\u001b[0m \u001b[0mF\u001b[0m\u001b[1;33m.\u001b[0m\u001b[0mlinear\u001b[0m\u001b[1;33m(\u001b[0m\u001b[0minput\u001b[0m\u001b[1;33m,\u001b[0m \u001b[0mself\u001b[0m\u001b[1;33m.\u001b[0m\u001b[0mweight\u001b[0m\u001b[1;33m,\u001b[0m \u001b[0mself\u001b[0m\u001b[1;33m.\u001b[0m\u001b[0mbias\u001b[0m\u001b[1;33m)\u001b[0m\u001b[1;33m\u001b[0m\u001b[1;33m\u001b[0m\u001b[0m\n\u001b[0m\u001b[0;32m     92\u001b[0m \u001b[1;33m\u001b[0m\u001b[0m\n\u001b[0;32m     93\u001b[0m     \u001b[1;32mdef\u001b[0m \u001b[0mextra_repr\u001b[0m\u001b[1;33m(\u001b[0m\u001b[0mself\u001b[0m\u001b[1;33m)\u001b[0m \u001b[1;33m->\u001b[0m \u001b[0mstr\u001b[0m\u001b[1;33m:\u001b[0m\u001b[1;33m\u001b[0m\u001b[1;33m\u001b[0m\u001b[0m\n",
      "\u001b[1;32m~\\Anaconda3\\New folder\\envs\\torch_env\\lib\\site-packages\\torch\\nn\\functional.py\u001b[0m in \u001b[0;36mlinear\u001b[1;34m(input, weight, bias)\u001b[0m\n\u001b[0;32m   1672\u001b[0m     \u001b[1;32mif\u001b[0m \u001b[0minput\u001b[0m\u001b[1;33m.\u001b[0m\u001b[0mdim\u001b[0m\u001b[1;33m(\u001b[0m\u001b[1;33m)\u001b[0m \u001b[1;33m==\u001b[0m \u001b[1;36m2\u001b[0m \u001b[1;32mand\u001b[0m \u001b[0mbias\u001b[0m \u001b[1;32mis\u001b[0m \u001b[1;32mnot\u001b[0m \u001b[1;32mNone\u001b[0m\u001b[1;33m:\u001b[0m\u001b[1;33m\u001b[0m\u001b[1;33m\u001b[0m\u001b[0m\n\u001b[0;32m   1673\u001b[0m         \u001b[1;31m# fused op is marginally faster\u001b[0m\u001b[1;33m\u001b[0m\u001b[1;33m\u001b[0m\u001b[1;33m\u001b[0m\u001b[0m\n\u001b[1;32m-> 1674\u001b[1;33m         \u001b[0mret\u001b[0m \u001b[1;33m=\u001b[0m \u001b[0mtorch\u001b[0m\u001b[1;33m.\u001b[0m\u001b[0maddmm\u001b[0m\u001b[1;33m(\u001b[0m\u001b[0mbias\u001b[0m\u001b[1;33m,\u001b[0m \u001b[0minput\u001b[0m\u001b[1;33m,\u001b[0m \u001b[0mweight\u001b[0m\u001b[1;33m.\u001b[0m\u001b[0mt\u001b[0m\u001b[1;33m(\u001b[0m\u001b[1;33m)\u001b[0m\u001b[1;33m)\u001b[0m\u001b[1;33m\u001b[0m\u001b[1;33m\u001b[0m\u001b[0m\n\u001b[0m\u001b[0;32m   1675\u001b[0m     \u001b[1;32melse\u001b[0m\u001b[1;33m:\u001b[0m\u001b[1;33m\u001b[0m\u001b[1;33m\u001b[0m\u001b[0m\n\u001b[0;32m   1676\u001b[0m         \u001b[0moutput\u001b[0m \u001b[1;33m=\u001b[0m \u001b[0minput\u001b[0m\u001b[1;33m.\u001b[0m\u001b[0mmatmul\u001b[0m\u001b[1;33m(\u001b[0m\u001b[0mweight\u001b[0m\u001b[1;33m.\u001b[0m\u001b[0mt\u001b[0m\u001b[1;33m(\u001b[0m\u001b[1;33m)\u001b[0m\u001b[1;33m)\u001b[0m\u001b[1;33m\u001b[0m\u001b[1;33m\u001b[0m\u001b[0m\n",
      "\u001b[1;31mRuntimeError\u001b[0m: size mismatch, m1: [19 x 1200], m2: [380 x 1] at ..\\aten\\src\\TH/generic/THTensorMath.cpp:41"
     ]
    }
   ],
   "source": [
    "mv_net.train()\n",
    "for t in range(train_episodes):\n",
    "    for b in range(0,len(pv_in),batch_size):\n",
    "        inpt = pv_in[b:b+batch_size,:,:]\n",
    "        target =pv_out[b:b+batch_size]    \n",
    "        \n",
    "        x_batch = torch.tensor(inpt,dtype=torch.float32)    \n",
    "        y_batch = torch.tensor(target,dtype=torch.float32)\n",
    "    \n",
    "        mv_net.init_hidden(x_batch.size(0))\n",
    "    #    lstm_out, _ = mv_net.l_lstm(x_batch,nnet.hidden)    \n",
    "    #    lstm_out.contiguous().view(x_batch.size(0),-1)\n",
    "        output = mv_net(x_batch) \n",
    "        loss = criterion(output.view(-1), y_batch)  \n",
    "        \n",
    "        loss.backward()\n",
    "        optimizer.step()        \n",
    "        optimizer.zero_grad() \n",
    "    print('step : ' , t , 'loss : ' , loss.item())"
   ]
  },
  {
   "cell_type": "markdown",
   "metadata": {},
   "source": [
    "### Create a histogram-plotting function for visualizing x, y positions of data points"
   ]
  },
  {
   "cell_type": "code",
   "execution_count": 3,
   "metadata": {},
   "outputs": [],
   "source": [
    "def hist_positions(dataset, size):\n",
    "    sample_size = size*0.1\n",
    "    dataset = sample(list(dataset), sample_size)\n",
    "    p_x = []\n",
    "    p_y = []\n",
    "    for i in range(sample_size):\n",
    "        entry = dataset[i]\n",
    "        for j in range(int(sum(entry['car_mask'])[0])):\n",
    "            if(entry['car_mask'][0][0] != 0):\n",
    "                for k in range(19):\n",
    "                    p_x.append((entry['p_in'][j][k][0]))\n",
    "                    p_y.append(entry['p_in'][j][k][1])\n",
    "    x_min = np.min(p_x)\n",
    "    x_max = np.max(p_x)\n",
    "    y_min = np.min(p_y)\n",
    "    y_max = np.max(p_y)\n",
    "    x_bins = np.linspace(x_min, x_max, 50)\n",
    "    y_bins = np.linspace(y_min, y_max, 50)\n",
    "    #plt.hist2d(p_x, p_y, bins =[x_bins, y_bins], cmap = plt.cm.nipy_spectral)\n",
    "    plt.figure(figsize=(18, 12))\n",
    "    plt.scatter(p_x, p_y, cmap = plt.cm.nipy_spectral, s = 0.2)\n",
    "    plt.title(\"Distribution of Positions\")\n",
    "    plt.show()  "
   ]
  },
  {
   "cell_type": "code",
   "execution_count": 52,
   "metadata": {},
   "outputs": [],
   "source": [
    "def scatter_velocities(dataset, size):\n",
    "    v_x = []\n",
    "    v_y = []\n",
    "    count_x = 0\n",
    "    count_y = 0\n",
    "    for i in range(size):\n",
    "        entry = dataset[i]\n",
    "        for j in range(int(sum(entry['car_mask'])[0])):\n",
    "            if(entry['car_mask'][0][0] != 0):\n",
    "                for k in range(19):\n",
    "                    x_val = entry['v_in'][j][k][0]\n",
    "                    y_val = entry['v_in'][j][k][1]\n",
    "                    if(x_val < 25 and x_val > -25 and y_val < 25 and y_val > -25):\n",
    "                        v_x.append(x_val)\n",
    "                        v_y.append(y_val)\n",
    "\n",
    "    x_min = np.min(v_x)\n",
    "    x_max = np.max(v_x)\n",
    "    y_min = np.min(v_y)\n",
    "    y_max = np.max(v_y)\n",
    "    x_bins = np.linspace(x_min, x_max, 50)\n",
    "    y_bins = np.linspace(y_min, y_max, 50)\n",
    "    #plt.hist2d(v_x, v_y, bins =[x_bins, y_bins], cmap = plt.cm.nipy_spectral)\n",
    "    plt.figure(figsize=(18, 12))\n",
    "    plt.scatter(v_x, v_y, cmap = plt.cm.nipy_spectral, s = 0.7)\n",
    "   \n",
    "    plt.title(\"Distribution of Velocities\")\n",
    "    plt.show()  "
   ]
  },
  {
   "cell_type": "code",
   "execution_count": 62,
   "metadata": {},
   "outputs": [],
   "source": [
    "def hist_velocities(dataset, size):\n",
    "    count_x = 0\n",
    "    count_y = 0\n",
    "    mag = []\n",
    "    for i in range(size):\n",
    "        entry = dataset[i]\n",
    "        for j in range(int(sum(entry['car_mask'])[0])):\n",
    "            if(entry['car_mask'][0][0] != 0):\n",
    "                for k in range(19):\n",
    "                    x_val = entry['v_in'][j][k][0]\n",
    "                    y_val = entry['v_in'][j][k][1]\n",
    "                    if(x_val < 25 and x_val > -25 and y_val < 25 and y_val > -25):\n",
    "                        mag.append(math.sqrt(x_val**2 + y_val**2))\n",
    "                        \n",
    "    m_min = np.min(mag)\n",
    "    m_max = np.max(mag)\n",
    "    m_bins = np.linspace(m_min, m_max, 100)\n",
    "    plt.figure(figsize=(18, 12))\n",
    "    plt.hist(mag, bins =m_bins)\n",
    "   \n",
    "    #plt.scatter(v_x, v_y, cmap = plt.cm.nipy_spectral, s = 0.7)\n",
    "   \n",
    "    plt.title(\"Histogram of Velocity Magnitudes\")\n",
    "    plt.show()  "
   ]
  },
  {
   "cell_type": "code",
   "execution_count": 43,
   "metadata": {},
   "outputs": [],
   "source": [
    "def scatter_target_velocities(dataset, size):\n",
    "    v_x = []\n",
    "    v_y = []\n",
    "    count_x = 0\n",
    "    count_y = 0\n",
    "    targets = []\n",
    "    for i in range(size):\n",
    "        entry = dataset[i]\n",
    "        for j in range(int(sum(entry['car_mask'])[0])):\n",
    "            if(entry['car_mask'][0][0] != 0):\n",
    "                targets = target_v(entry)\n",
    "                for k in range(19):\n",
    "                    v_x.append(targets[k][0])\n",
    "                    v_y.append(targets[k][1])\n",
    "\n",
    "    x_min = np.min(v_x)\n",
    "    x_max = np.max(v_x)\n",
    "    y_min = np.min(v_y)\n",
    "    y_max = np.max(v_y)\n",
    "    x_bins = np.linspace(x_min, x_max, 50)\n",
    "    y_bins = np.linspace(y_min, y_max, 50)\n",
    "    #plt.hist2d(v_x, v_y, bins =[x_bins, y_bins], cmap = plt.cm.nipy_spectral)\n",
    "    plt.figure(figsize=(18, 12))\n",
    "    plt.scatter(v_x, v_y, cmap = plt.cm.nipy_spectral, s = 0.7)\n",
    "   \n",
    "    plt.title(\"Distribution of Target Velocities\")\n",
    "    plt.show()  "
   ]
  },
  {
   "cell_type": "code",
   "execution_count": 35,
   "metadata": {},
   "outputs": [],
   "source": [
    "def target_v(entry):\n",
    "    for i in range(60):\n",
    "        if(entry['track_id'][i][0] == entry['agent_id']):\n",
    "            return entry['v_in'][i]"
   ]
  },
  {
   "cell_type": "code",
   "execution_count": 45,
   "metadata": {},
   "outputs": [
    {
     "data": {
      "image/png": "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\n",
      "text/plain": [
       "<Figure size 1296x864 with 1 Axes>"
      ]
     },
     "metadata": {
      "needs_background": "light"
     },
     "output_type": "display_data"
    }
   ],
   "source": [
    "scatter_target_velocities(test_dataset, 3200)"
   ]
  },
  {
   "cell_type": "markdown",
   "metadata": {},
   "source": [
    "### Visualize the batch of sequences"
   ]
  },
  {
   "cell_type": "code",
   "execution_count": 74,
   "metadata": {},
   "outputs": [
    {
     "name": "stdout",
     "output_type": "stream",
     "text": [
      "torch.Size([1, 60, 49, 4])\n"
     ]
    },
    {
     "name": "stderr",
     "output_type": "stream",
     "text": [
      "<ipython-input-10-6a8b3edc94a0>:7: DeprecationWarning: an integer is required (got type numpy.float64).  Implicit conversion to integers using __int__ is deprecated, and may be removed in a future version of Python.\n",
      "  inp = torch.LongTensor(inp)\n",
      "<ipython-input-10-6a8b3edc94a0>:8: DeprecationWarning: an integer is required (got type numpy.float64).  Implicit conversion to integers using __int__ is deprecated, and may be removed in a future version of Python.\n",
      "  out = torch.LongTensor(out)\n"
     ]
    }
   ],
   "source": [
    "import matplotlib.pyplot as plt\n",
    "import random\n",
    "\n",
    "agent_id = 0\n",
    "\n",
    "def show_sample_batch(sample_batch, agent_id):\n",
    "    \"\"\"visualize the trajectory for a batch of samples with a randon agent\"\"\"\n",
    "    inp, out = sample_batch\n",
    "    batch_sz = inp.size(0)\n",
    "    agent_sz = inp.size(1)\n",
    "    \n",
    "    fig, axs = plt.subplots(1,batch_sz, figsize=(15, 3), facecolor='w', edgecolor='k')\n",
    "    fig.subplots_adjust(hspace = .5, wspace=.001)\n",
    "    axs = axs.ravel()   \n",
    "    for i in range(batch_sz):\n",
    "        axs[i].xaxis.set_ticks([])\n",
    "        axs[i].yaxis.set_ticks([])\n",
    "        \n",
    "        # first two feature dimensions are (x,y) positions\n",
    "        axs[i].scatter(inp[i, agent_id,:,0], inp[i, agent_id,:,1])\n",
    "        axs[i].scatter(out[i, agent_id,:,0], out[i, agent_id,:,1])\n",
    "\n",
    "        \n",
    "for i_batch, sample_batch in enumerate(val_loader):\n",
    "    inp, out = sample_batch\n",
    "    \"\"\"TODO:\n",
    "      Deep learning model\n",
    "      training routine\n",
    "    \"\"\"\n",
    "    temp = torch.cat((inp, out), axis = 2)\n",
    "    print(temp.shape)\n",
    "    \n",
    "    #show_sample_batch(sample_batch, agent_id)\n",
    "    break"
   ]
  },
  {
   "cell_type": "code",
   "execution_count": 3,
   "metadata": {},
   "outputs": [],
   "source": [
    "f = pd.read_pickle(\"./new_train/1.pkl\")"
   ]
  },
  {
   "cell_type": "code",
   "execution_count": 8,
   "metadata": {},
   "outputs": [
    {
     "data": {
      "text/plain": [
       "'00000000-0000-0000-0000-000000056485'"
      ]
     },
     "execution_count": 8,
     "metadata": {},
     "output_type": "execute_result"
    }
   ],
   "source": [
    "f['agent_id']"
   ]
  },
  {
   "cell_type": "code",
   "execution_count": 33,
   "metadata": {},
   "outputs": [
    {
     "data": {
      "text/plain": [
       "(19, 2)"
      ]
     },
     "execution_count": 33,
     "metadata": {},
     "output_type": "execute_result"
    }
   ],
   "source": [
    "f['v_in'][9].shape"
   ]
  },
  {
   "cell_type": "markdown",
   "metadata": {},
   "source": [
    "## RNN Model for Sequence Prediction"
   ]
  },
  {
   "cell_type": "markdown",
   "metadata": {},
   "source": [
    "Reference: https://github.com/gabrielloye/RNN-walkthrough/blob/master/main.ipynb\n",
    "\n",
    "1. Normalization\n"
   ]
  },
  {
   "cell_type": "code",
   "execution_count": 74,
   "metadata": {},
   "outputs": [],
   "source": [
    "class Model(nn.Module):\n",
    "    def __init__(self, input_size, output_size, hidden_dim, n_layers):\n",
    "        super(Model, self).__init__()\n",
    "\n",
    "        # Defining some parameters\n",
    "        self.hidden_dim = hidden_dim\n",
    "        self.n_layers = n_layers\n",
    "\n",
    "        #Defining the layers\n",
    "        # RNN Layer\n",
    "        self.rnn = nn.RNN(input_size, hidden_dim, n_layers, batch_first=True)   \n",
    "        # Fully connected layer\n",
    "        self.fc = nn.Linear(hidden_dim, output_size)\n",
    "    \n",
    "    def forward(self, x):\n",
    "        \n",
    "        batch_size = x.size(0)\n",
    "\n",
    "        #Initializing hidden state for first input using method defined below\n",
    "        hidden = self.init_hidden(batch_size)\n",
    "\n",
    "        # Passing in the input and hidden state into the model and obtaining outputs\n",
    "        out, hidden = self.rnn(x, hidden)\n",
    "        \n",
    "        # Reshaping the outputs such that it can be fit into the fully connected layer\n",
    "        out = out.contiguous().view(-1, self.hidden_dim)\n",
    "        out = self.fc(out)\n",
    "        \n",
    "        return out, hidden\n",
    "    \n",
    "    def init_hidden(self, batch_size):\n",
    "        # This method generates the first hidden state of zeros which we'll use in the forward pass\n",
    "        hidden = torch.zeros(self.n_layers, batch_size, self.hidden_dim).to(device)\n",
    "         # We'll send the tensor holding the hidden state to the device we specified earlier as well\n",
    "        return hidden"
   ]
  },
  {
   "cell_type": "code",
   "execution_count": null,
   "metadata": {},
   "outputs": [],
   "source": [
    "# Instantiate the model with hyperparameters\n",
    "model = Model(input_size=dict_size, output_size=dict_size, hidden_dim=12, n_layers=1)\n",
    "# We'll also set the model to the device that we defined earlier (default is CPU)\n",
    "model = model.to(device)\n",
    "\n",
    "# Define hyperparameters\n",
    "n_epochs = 100\n",
    "lr=0.01\n",
    "\n",
    "# Define Loss, Optimizer\n",
    "criterion = nn.CrossEntropyLoss()\n",
    "optimizer = torch.optim.Adam(model.parameters(), lr=lr)"
   ]
  },
  {
   "cell_type": "code",
   "execution_count": 12,
   "metadata": {},
   "outputs": [],
   "source": [
    "df = pd.read_csv('./sample_submission.csv')"
   ]
  },
  {
   "cell_type": "code",
   "execution_count": 13,
   "metadata": {},
   "outputs": [
    {
     "data": {
      "text/plain": [
       "(3200, 61)"
      ]
     },
     "execution_count": 13,
     "metadata": {},
     "output_type": "execute_result"
    }
   ],
   "source": [
    "df.shape"
   ]
  },
  {
   "cell_type": "code",
   "execution_count": 18,
   "metadata": {},
   "outputs": [
    {
     "data": {
      "text/html": [
       "<div>\n",
       "<style scoped>\n",
       "    .dataframe tbody tr th:only-of-type {\n",
       "        vertical-align: middle;\n",
       "    }\n",
       "\n",
       "    .dataframe tbody tr th {\n",
       "        vertical-align: top;\n",
       "    }\n",
       "\n",
       "    .dataframe thead th {\n",
       "        text-align: right;\n",
       "    }\n",
       "</style>\n",
       "<table border=\"1\" class=\"dataframe\">\n",
       "  <thead>\n",
       "    <tr style=\"text-align: right;\">\n",
       "      <th></th>\n",
       "      <th>ID</th>\n",
       "      <th>v1</th>\n",
       "      <th>v2</th>\n",
       "      <th>v3</th>\n",
       "      <th>v4</th>\n",
       "      <th>v5</th>\n",
       "      <th>v6</th>\n",
       "      <th>v7</th>\n",
       "      <th>v8</th>\n",
       "      <th>v9</th>\n",
       "      <th>...</th>\n",
       "      <th>v51</th>\n",
       "      <th>v52</th>\n",
       "      <th>v53</th>\n",
       "      <th>v54</th>\n",
       "      <th>v55</th>\n",
       "      <th>v56</th>\n",
       "      <th>v57</th>\n",
       "      <th>v58</th>\n",
       "      <th>v59</th>\n",
       "      <th>v60</th>\n",
       "    </tr>\n",
       "  </thead>\n",
       "  <tbody>\n",
       "    <tr>\n",
       "      <th>0</th>\n",
       "      <td>10002</td>\n",
       "      <td>0.0</td>\n",
       "      <td>0.0</td>\n",
       "      <td>0.0</td>\n",
       "      <td>0.0</td>\n",
       "      <td>0.0</td>\n",
       "      <td>0.0</td>\n",
       "      <td>0.0</td>\n",
       "      <td>0.0</td>\n",
       "      <td>0.0</td>\n",
       "      <td>...</td>\n",
       "      <td>0.0</td>\n",
       "      <td>0.0</td>\n",
       "      <td>0.0</td>\n",
       "      <td>0.0</td>\n",
       "      <td>0.0</td>\n",
       "      <td>0.0</td>\n",
       "      <td>0.0</td>\n",
       "      <td>0.0</td>\n",
       "      <td>0.0</td>\n",
       "      <td>0.0</td>\n",
       "    </tr>\n",
       "    <tr>\n",
       "      <th>1</th>\n",
       "      <td>10015</td>\n",
       "      <td>0.0</td>\n",
       "      <td>0.0</td>\n",
       "      <td>0.0</td>\n",
       "      <td>0.0</td>\n",
       "      <td>0.0</td>\n",
       "      <td>0.0</td>\n",
       "      <td>0.0</td>\n",
       "      <td>0.0</td>\n",
       "      <td>0.0</td>\n",
       "      <td>...</td>\n",
       "      <td>0.0</td>\n",
       "      <td>0.0</td>\n",
       "      <td>0.0</td>\n",
       "      <td>0.0</td>\n",
       "      <td>0.0</td>\n",
       "      <td>0.0</td>\n",
       "      <td>0.0</td>\n",
       "      <td>0.0</td>\n",
       "      <td>0.0</td>\n",
       "      <td>0.0</td>\n",
       "    </tr>\n",
       "    <tr>\n",
       "      <th>2</th>\n",
       "      <td>10019</td>\n",
       "      <td>0.0</td>\n",
       "      <td>0.0</td>\n",
       "      <td>0.0</td>\n",
       "      <td>0.0</td>\n",
       "      <td>0.0</td>\n",
       "      <td>0.0</td>\n",
       "      <td>0.0</td>\n",
       "      <td>0.0</td>\n",
       "      <td>0.0</td>\n",
       "      <td>...</td>\n",
       "      <td>0.0</td>\n",
       "      <td>0.0</td>\n",
       "      <td>0.0</td>\n",
       "      <td>0.0</td>\n",
       "      <td>0.0</td>\n",
       "      <td>0.0</td>\n",
       "      <td>0.0</td>\n",
       "      <td>0.0</td>\n",
       "      <td>0.0</td>\n",
       "      <td>0.0</td>\n",
       "    </tr>\n",
       "    <tr>\n",
       "      <th>3</th>\n",
       "      <td>10028</td>\n",
       "      <td>0.0</td>\n",
       "      <td>0.0</td>\n",
       "      <td>0.0</td>\n",
       "      <td>0.0</td>\n",
       "      <td>0.0</td>\n",
       "      <td>0.0</td>\n",
       "      <td>0.0</td>\n",
       "      <td>0.0</td>\n",
       "      <td>0.0</td>\n",
       "      <td>...</td>\n",
       "      <td>0.0</td>\n",
       "      <td>0.0</td>\n",
       "      <td>0.0</td>\n",
       "      <td>0.0</td>\n",
       "      <td>0.0</td>\n",
       "      <td>0.0</td>\n",
       "      <td>0.0</td>\n",
       "      <td>0.0</td>\n",
       "      <td>0.0</td>\n",
       "      <td>0.0</td>\n",
       "    </tr>\n",
       "    <tr>\n",
       "      <th>4</th>\n",
       "      <td>1003</td>\n",
       "      <td>0.0</td>\n",
       "      <td>0.0</td>\n",
       "      <td>0.0</td>\n",
       "      <td>0.0</td>\n",
       "      <td>0.0</td>\n",
       "      <td>0.0</td>\n",
       "      <td>0.0</td>\n",
       "      <td>0.0</td>\n",
       "      <td>0.0</td>\n",
       "      <td>...</td>\n",
       "      <td>0.0</td>\n",
       "      <td>0.0</td>\n",
       "      <td>0.0</td>\n",
       "      <td>0.0</td>\n",
       "      <td>0.0</td>\n",
       "      <td>0.0</td>\n",
       "      <td>0.0</td>\n",
       "      <td>0.0</td>\n",
       "      <td>0.0</td>\n",
       "      <td>0.0</td>\n",
       "    </tr>\n",
       "  </tbody>\n",
       "</table>\n",
       "<p>5 rows × 61 columns</p>\n",
       "</div>"
      ],
      "text/plain": [
       "      ID   v1   v2   v3   v4   v5   v6   v7   v8   v9  ...  v51  v52  v53  \\\n",
       "0  10002  0.0  0.0  0.0  0.0  0.0  0.0  0.0  0.0  0.0  ...  0.0  0.0  0.0   \n",
       "1  10015  0.0  0.0  0.0  0.0  0.0  0.0  0.0  0.0  0.0  ...  0.0  0.0  0.0   \n",
       "2  10019  0.0  0.0  0.0  0.0  0.0  0.0  0.0  0.0  0.0  ...  0.0  0.0  0.0   \n",
       "3  10028  0.0  0.0  0.0  0.0  0.0  0.0  0.0  0.0  0.0  ...  0.0  0.0  0.0   \n",
       "4   1003  0.0  0.0  0.0  0.0  0.0  0.0  0.0  0.0  0.0  ...  0.0  0.0  0.0   \n",
       "\n",
       "   v54  v55  v56  v57  v58  v59  v60  \n",
       "0  0.0  0.0  0.0  0.0  0.0  0.0  0.0  \n",
       "1  0.0  0.0  0.0  0.0  0.0  0.0  0.0  \n",
       "2  0.0  0.0  0.0  0.0  0.0  0.0  0.0  \n",
       "3  0.0  0.0  0.0  0.0  0.0  0.0  0.0  \n",
       "4  0.0  0.0  0.0  0.0  0.0  0.0  0.0  \n",
       "\n",
       "[5 rows x 61 columns]"
      ]
     },
     "execution_count": 18,
     "metadata": {},
     "output_type": "execute_result"
    }
   ],
   "source": [
    "df.head()"
   ]
  },
  {
   "cell_type": "code",
   "execution_count": null,
   "metadata": {},
   "outputs": [],
   "source": []
  }
 ],
 "metadata": {
  "kernelspec": {
   "display_name": "Python 3.7.3 64-bit",
   "language": "python",
   "name": "python37364bit06671340b31a4580871a50ce5b1db795"
  },
  "language_info": {
   "codemirror_mode": {
    "name": "ipython",
    "version": 3
   },
   "file_extension": ".py",
   "mimetype": "text/x-python",
   "name": "python",
   "nbconvert_exporter": "python",
   "pygments_lexer": "ipython3",
<<<<<<< Updated upstream
   "version": "3.8.8"
=======
   "version": "3.7.3"
>>>>>>> Stashed changes
  }
 },
 "nbformat": 4,
 "nbformat_minor": 4
}
